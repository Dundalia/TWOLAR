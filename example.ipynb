{
 "cells": [
  {
   "cell_type": "code",
   "execution_count": 1,
   "id": "6b16d4d7-bd58-41dd-b9f2-6a389ea5ba18",
   "metadata": {},
   "outputs": [],
   "source": [
    "from utils import Score\n",
    "from transformers import AutoModelForSeq2SeqLM, AutoTokenizer\n",
    "import torch"
   ]
  },
  {
   "cell_type": "code",
   "execution_count": 2,
   "id": "690b1312-6603-4d6a-a721-3b7b4d3b92a3",
   "metadata": {},
   "outputs": [],
   "source": [
    "model_ckpt = \"/data/davide/models/t5/rankt5/flan-t5-xl-difference-total-30-ga-32/checkpoint-1/\"\n",
    "score_strategy = \"difference\"\n",
    "\n",
    "get_score = getattr(Score, score_strategy)"
   ]
  },
  {
   "cell_type": "code",
   "execution_count": 3,
   "id": "7aa9fe80-c278-4142-921d-9a2155f4da51",
   "metadata": {},
   "outputs": [],
   "source": [
    "device = \"cuda\" if torch.cuda.is_available() else \"cpu\"\n",
    "\n",
    "#model = AutoModelForSeq2SeqLM.from_pretrained(model_ckpt).to(device)\n",
    "tokenizer = AutoTokenizer.from_pretrained(model_ckpt)"
   ]
  },
  {
   "cell_type": "code",
   "execution_count": 4,
   "id": "1304dee3-d5ad-4dc6-a33c-1101f40b3cbd",
   "metadata": {},
   "outputs": [
    {
     "data": {
      "text/plain": [
       "[1176, 1]"
      ]
     },
     "execution_count": 4,
     "metadata": {},
     "output_type": "execute_result"
    }
   ],
   "source": [
    "tokenizer.encode('true')"
   ]
  },
  {
   "cell_type": "code",
   "execution_count": 4,
   "id": "5235f7c7-1a78-46a2-9f48-b9a312d525b3",
   "metadata": {},
   "outputs": [],
   "source": [
    "query = \"What is the significance of the Turing Award in the field of computer science?\"\n",
    "\n",
    "documents = [\n",
    "    \"Title: Major Milestones in Computer Science. Content: Another significant recognition in the world of computing is the Turing Award. Named after Alan Turing, the father of theoretical computer science and artificial intelligence, the award is often dubbed the 'Nobel Prize of Computer Science.' Established in 1966, it is conferred annually by the Association for Computing Machinery (ACM) to an individual or a group who made major contributions to the field of computer science.\",\n",
    "    \"Title: Alan Turing, a Brief Biography. Content: Despite his monumental contributions, Turing faced persecution in his lifetime due to his sexuality. However, his legacy lives on in various ways, one of which is the Turing Award. While this award bears his name and is given in the domain of computer science, its significance in terms of academic recognition remains underappreciated.\",\n",
    "    \"Title: Notbale Awards in Various Disciplines. Content: Turning to the realm of computer science, one cannot forget the Turing Award. The Turing Award has been around for decades and is a prestigious accolade, honoring those who have pushed the boundaries of computer science research and innovation. This award is more than just a title; it carries with it a rich history and a commitment to recognizing excellence in computing.\",\n",
    "]\n",
    "\n",
    "inputs = [\n",
    "    f\"Query: {query} Document: {document} Relevant: \" \n",
    "    for document in documents\n",
    "]\n",
    "\n",
    "features = tokenizer(\n",
    "    inputs, truncation = True, \n",
    "    return_tensors = \"pt\", max_length = 500, \n",
    "    padding = True,\n",
    ")\n",
    "\n",
    "input_ids = features.input_ids\n",
    "attention_mask = features.attention_mask\n",
    "decode_ids = torch.full((input_ids.size(0), 1),\n",
    "                         model.config.decoder_start_token_id,\n",
    "                         dtype=torch.long)"
   ]
  },
  {
   "cell_type": "code",
   "execution_count": 6,
   "id": "d45b7889-eca3-4c97-97d0-7a130a67cf89",
   "metadata": {},
   "outputs": [],
   "source": [
    "with torch.no_grad():\n",
    "    output = model(\n",
    "            input_ids = input_ids.to(device), \n",
    "            attention_mask = attention_mask.to(device), \n",
    "            decoder_input_ids = decode_ids.to(device),    \n",
    "        ) \n",
    "    logits = output.logits[:,0,:]\n",
    "\n",
    "scores = get_score(logits).cpu().tolist()"
   ]
  },
  {
   "cell_type": "code",
   "execution_count": 7,
   "id": "1064a9d2-d83b-4f14-820d-a9824ba51b37",
   "metadata": {},
   "outputs": [],
   "source": [
    "import pandas as pd\n",
    "\n",
    "corpus = pd.read_csv(\"/data/davide/dragon/beir/nfcorpus/collection.tsv\", sep=\"\\t\", nrows=10)\n",
    "queries = pd.read_csv(\"/data/davide/dragon/beir/nfcorpus/queries.test.tsv\", sep=\"\\t\", nrows=10)\n",
    "qrels = pd.read_csv(\"/data/davide/dragon/beir/nfcorpus/qrels.test.tsv\", sep=\" \", nrows=10)"
   ]
  },
  {
   "cell_type": "code",
   "execution_count": 8,
   "id": "708b757c-4667-4c08-a8f2-46dfbe62fcd4",
   "metadata": {},
   "outputs": [
    {
     "data": {
      "text/html": [
       "<div>\n",
       "<style scoped>\n",
       "    .dataframe tbody tr th:only-of-type {\n",
       "        vertical-align: middle;\n",
       "    }\n",
       "\n",
       "    .dataframe tbody tr th {\n",
       "        vertical-align: top;\n",
       "    }\n",
       "\n",
       "    .dataframe thead th {\n",
       "        text-align: right;\n",
       "    }\n",
       "</style>\n",
       "<table border=\"1\" class=\"dataframe\">\n",
       "  <thead>\n",
       "    <tr style=\"text-align: right;\">\n",
       "      <th></th>\n",
       "      <th>PLAIN-2</th>\n",
       "      <th>0</th>\n",
       "      <th>MED-2427</th>\n",
       "      <th>2</th>\n",
       "    </tr>\n",
       "  </thead>\n",
       "  <tbody>\n",
       "    <tr>\n",
       "      <th>0</th>\n",
       "      <td>PLAIN-2</td>\n",
       "      <td>0</td>\n",
       "      <td>MED-10</td>\n",
       "      <td>2</td>\n",
       "    </tr>\n",
       "    <tr>\n",
       "      <th>1</th>\n",
       "      <td>PLAIN-2</td>\n",
       "      <td>0</td>\n",
       "      <td>MED-2429</td>\n",
       "      <td>2</td>\n",
       "    </tr>\n",
       "    <tr>\n",
       "      <th>2</th>\n",
       "      <td>PLAIN-2</td>\n",
       "      <td>0</td>\n",
       "      <td>MED-2430</td>\n",
       "      <td>2</td>\n",
       "    </tr>\n",
       "    <tr>\n",
       "      <th>3</th>\n",
       "      <td>PLAIN-2</td>\n",
       "      <td>0</td>\n",
       "      <td>MED-2431</td>\n",
       "      <td>2</td>\n",
       "    </tr>\n",
       "    <tr>\n",
       "      <th>4</th>\n",
       "      <td>PLAIN-2</td>\n",
       "      <td>0</td>\n",
       "      <td>MED-14</td>\n",
       "      <td>2</td>\n",
       "    </tr>\n",
       "    <tr>\n",
       "      <th>5</th>\n",
       "      <td>PLAIN-2</td>\n",
       "      <td>0</td>\n",
       "      <td>MED-2432</td>\n",
       "      <td>2</td>\n",
       "    </tr>\n",
       "    <tr>\n",
       "      <th>6</th>\n",
       "      <td>PLAIN-2</td>\n",
       "      <td>0</td>\n",
       "      <td>MED-2428</td>\n",
       "      <td>1</td>\n",
       "    </tr>\n",
       "    <tr>\n",
       "      <th>7</th>\n",
       "      <td>PLAIN-2</td>\n",
       "      <td>0</td>\n",
       "      <td>MED-2440</td>\n",
       "      <td>1</td>\n",
       "    </tr>\n",
       "    <tr>\n",
       "      <th>8</th>\n",
       "      <td>PLAIN-2</td>\n",
       "      <td>0</td>\n",
       "      <td>MED-2434</td>\n",
       "      <td>1</td>\n",
       "    </tr>\n",
       "    <tr>\n",
       "      <th>9</th>\n",
       "      <td>PLAIN-2</td>\n",
       "      <td>0</td>\n",
       "      <td>MED-2435</td>\n",
       "      <td>1</td>\n",
       "    </tr>\n",
       "  </tbody>\n",
       "</table>\n",
       "</div>"
      ],
      "text/plain": [
       "   PLAIN-2  0  MED-2427  2\n",
       "0  PLAIN-2  0    MED-10  2\n",
       "1  PLAIN-2  0  MED-2429  2\n",
       "2  PLAIN-2  0  MED-2430  2\n",
       "3  PLAIN-2  0  MED-2431  2\n",
       "4  PLAIN-2  0    MED-14  2\n",
       "5  PLAIN-2  0  MED-2432  2\n",
       "6  PLAIN-2  0  MED-2428  1\n",
       "7  PLAIN-2  0  MED-2440  1\n",
       "8  PLAIN-2  0  MED-2434  1\n",
       "9  PLAIN-2  0  MED-2435  1"
      ]
     },
     "execution_count": 8,
     "metadata": {},
     "output_type": "execute_result"
    }
   ],
   "source": [
    "qrels"
   ]
  },
  {
   "cell_type": "code",
   "execution_count": 4,
   "id": "67525804-fdb1-490f-9c3e-b96cc5702e42",
   "metadata": {},
   "outputs": [
    {
     "data": {
      "text/html": [
       "<div>\n",
       "<style scoped>\n",
       "    .dataframe tbody tr th:only-of-type {\n",
       "        vertical-align: middle;\n",
       "    }\n",
       "\n",
       "    .dataframe tbody tr th {\n",
       "        vertical-align: top;\n",
       "    }\n",
       "\n",
       "    .dataframe thead th {\n",
       "        text-align: right;\n",
       "    }\n",
       "</style>\n",
       "<table border=\"1\" class=\"dataframe\">\n",
       "  <thead>\n",
       "    <tr style=\"text-align: right;\">\n",
       "      <th></th>\n",
       "      <th>PLAIN-3</th>\n",
       "      <th>Breast Cancer Cells Feed on Cholesterol</th>\n",
       "    </tr>\n",
       "  </thead>\n",
       "  <tbody>\n",
       "    <tr>\n",
       "      <th>0</th>\n",
       "      <td>PLAIN-4</td>\n",
       "      <td>Using Diet to Treat Asthma and Eczema</td>\n",
       "    </tr>\n",
       "    <tr>\n",
       "      <th>1</th>\n",
       "      <td>PLAIN-5</td>\n",
       "      <td>Treating Asthma With Plants vs. Pills</td>\n",
       "    </tr>\n",
       "    <tr>\n",
       "      <th>2</th>\n",
       "      <td>PLAIN-6</td>\n",
       "      <td>How Fruits and Vegetables Can Treat Asthma</td>\n",
       "    </tr>\n",
       "    <tr>\n",
       "      <th>3</th>\n",
       "      <td>PLAIN-7</td>\n",
       "      <td>How Fruits and Vegetables Can Prevent Asthma</td>\n",
       "    </tr>\n",
       "    <tr>\n",
       "      <th>4</th>\n",
       "      <td>PLAIN-8</td>\n",
       "      <td>Our Tax Dollars Subsidize Unhealthy Foods</td>\n",
       "    </tr>\n",
       "    <tr>\n",
       "      <th>5</th>\n",
       "      <td>PLAIN-9</td>\n",
       "      <td>Reducing Arsenic in Chicken and Rice</td>\n",
       "    </tr>\n",
       "    <tr>\n",
       "      <th>6</th>\n",
       "      <td>PLAIN-10</td>\n",
       "      <td>How Contaminated Are Our Children?</td>\n",
       "    </tr>\n",
       "    <tr>\n",
       "      <th>7</th>\n",
       "      <td>PLAIN-14</td>\n",
       "      <td>Blood Type Diet Perceived as \"Crass Fraud\"</td>\n",
       "    </tr>\n",
       "    <tr>\n",
       "      <th>8</th>\n",
       "      <td>PLAIN-15</td>\n",
       "      <td>Why Do Heart Doctors Favor Surgery and Drugs O...</td>\n",
       "    </tr>\n",
       "    <tr>\n",
       "      <th>9</th>\n",
       "      <td>PLAIN-16</td>\n",
       "      <td>Phytates in Beans: Anti-Nutrient or Anti-Cancer?</td>\n",
       "    </tr>\n",
       "  </tbody>\n",
       "</table>\n",
       "</div>"
      ],
      "text/plain": [
       "    PLAIN-3            Breast Cancer Cells Feed on Cholesterol\n",
       "0   PLAIN-4              Using Diet to Treat Asthma and Eczema\n",
       "1   PLAIN-5              Treating Asthma With Plants vs. Pills\n",
       "2   PLAIN-6         How Fruits and Vegetables Can Treat Asthma\n",
       "3   PLAIN-7       How Fruits and Vegetables Can Prevent Asthma\n",
       "4   PLAIN-8          Our Tax Dollars Subsidize Unhealthy Foods\n",
       "5   PLAIN-9               Reducing Arsenic in Chicken and Rice\n",
       "6  PLAIN-10                 How Contaminated Are Our Children?\n",
       "7  PLAIN-14         Blood Type Diet Perceived as \"Crass Fraud\"\n",
       "8  PLAIN-15  Why Do Heart Doctors Favor Surgery and Drugs O...\n",
       "9  PLAIN-16   Phytates in Beans: Anti-Nutrient or Anti-Cancer?"
      ]
     },
     "execution_count": 4,
     "metadata": {},
     "output_type": "execute_result"
    }
   ],
   "source": [
    "queries"
   ]
  },
  {
   "cell_type": "code",
   "execution_count": null,
   "id": "2992b271-c9ab-4b48-8c9c-12eb4ade7b3e",
   "metadata": {},
   "outputs": [],
   "source": []
  }
 ],
 "metadata": {
  "kernelspec": {
   "display_name": "developer",
   "language": "python",
   "name": "developer"
  },
  "language_info": {
   "codemirror_mode": {
    "name": "ipython",
    "version": 3
   },
   "file_extension": ".py",
   "mimetype": "text/x-python",
   "name": "python",
   "nbconvert_exporter": "python",
   "pygments_lexer": "ipython3",
   "version": "3.8.10"
  }
 },
 "nbformat": 4,
 "nbformat_minor": 5
}
