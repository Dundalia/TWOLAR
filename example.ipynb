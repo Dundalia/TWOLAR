{
 "cells": [
  {
   "cell_type": "code",
   "execution_count": 1,
   "id": "6b16d4d7-bd58-41dd-b9f2-6a389ea5ba18",
   "metadata": {},
   "outputs": [],
   "source": [
    "from utils import Score\n",
    "from transformers import AutoModelForSeq2SeqLM, AutoTokenizer\n",
    "import torch"
   ]
  },
  {
   "cell_type": "code",
   "execution_count": 2,
   "id": "690b1312-6603-4d6a-a721-3b7b4d3b92a3",
   "metadata": {},
   "outputs": [],
   "source": [
    "model_ckpt = \"/data/davide/models/t5/rankt5/flan-t5-xl-difference-total-30-ga-32/checkpoint-1/\"\n",
    "score_strategy = \"difference\"\n",
    "\n",
    "get_score = getattr(Score, score_strategy)"
   ]
  },
  {
   "cell_type": "code",
   "execution_count": 3,
   "id": "7aa9fe80-c278-4142-921d-9a2155f4da51",
   "metadata": {},
   "outputs": [
    {
     "data": {
      "application/vnd.jupyter.widget-view+json": {
       "model_id": "7865f2a5fa6a4e84a44a1b558d043325",
       "version_major": 2,
       "version_minor": 0
      },
      "text/plain": [
       "Loading checkpoint shards:   0%|          | 0/2 [00:00<?, ?it/s]"
      ]
     },
     "metadata": {},
     "output_type": "display_data"
    }
   ],
   "source": [
    "device = \"cuda\" if torch.cuda.is_available() else \"cpu\"\n",
    "\n",
    "model = AutoModelForSeq2SeqLM.from_pretrained(model_ckpt).to(device)\n",
    "tokenizer = AutoTokenizer.from_pretrained(model_ckpt)"
   ]
  },
  {
   "cell_type": "code",
   "execution_count": 4,
   "id": "5235f7c7-1a78-46a2-9f48-b9a312d525b3",
   "metadata": {},
   "outputs": [],
   "source": [
    "query = \"What is the significance of the Turing Award in the field of computer science?\"\n",
    "\n",
    "documents = [\n",
    "    \"Title: Major Milestones in Computer Science. Content: Another significant recognition in the world of computing is the Turing Award. Named after Alan Turing, the father of theoretical computer science and artificial intelligence, the award is often dubbed the 'Nobel Prize of Computer Science.' Established in 1966, it is conferred annually by the Association for Computing Machinery (ACM) to an individual or a group who made major contributions to the field of computer science.\",\n",
    "    \"Title: Alan Turing, a Brief Biography. Content: Despite his monumental contributions, Turing faced persecution in his lifetime due to his sexuality. However, his legacy lives on in various ways, one of which is the Turing Award. While this award bears his name and is given in the domain of computer science, its significance in terms of academic recognition remains underappreciated.\",\n",
    "    \"Title: Notbale Awards in Various Disciplines. Content: Turning to the realm of computer science, one cannot forget the Turing Award. The Turing Award has been around for decades and is a prestigious accolade, honoring those who have pushed the boundaries of computer science research and innovation. This award is more than just a title; it carries with it a rich history and a commitment to recognizing excellence in computing.\",\n",
    "]\n",
    "\n",
    "inputs = [\n",
    "    f\"Query: {query} Document: {document} Relevant: \" \n",
    "    for document in documents\n",
    "]\n",
    "\n",
    "features = tokenizer(\n",
    "    inputs, truncation = True, \n",
    "    return_tensors = \"pt\", max_length = 500, \n",
    "    padding = True,\n",
    ")\n",
    "\n",
    "input_ids = features.input_ids\n",
    "attention_mask = features.attention_mask\n",
    "decode_ids = torch.full((input_ids.size(0), 1),\n",
    "                         model.config.decoder_start_token_id,\n",
    "                         dtype=torch.long)"
   ]
  },
  {
   "cell_type": "code",
   "execution_count": 6,
   "id": "d45b7889-eca3-4c97-97d0-7a130a67cf89",
   "metadata": {},
   "outputs": [],
   "source": [
    "with torch.no_grad():\n",
    "    output = model(\n",
    "            input_ids = input_ids.to(device), \n",
    "            attention_mask = attention_mask.to(device), \n",
    "            decoder_input_ids = decode_ids.to(device),    \n",
    "        ) \n",
    "    logits = output.logits[:,0,:]\n",
    "\n",
    "scores = get_score(logits).cpu().tolist()"
   ]
  }
 ],
 "metadata": {
  "kernelspec": {
   "display_name": "developer",
   "language": "python",
   "name": "developer"
  },
  "language_info": {
   "codemirror_mode": {
    "name": "ipython",
    "version": 3
   },
   "file_extension": ".py",
   "mimetype": "text/x-python",
   "name": "python",
   "nbconvert_exporter": "python",
   "pygments_lexer": "ipython3",
   "version": "3.8.10"
  }
 },
 "nbformat": 4,
 "nbformat_minor": 5
}
